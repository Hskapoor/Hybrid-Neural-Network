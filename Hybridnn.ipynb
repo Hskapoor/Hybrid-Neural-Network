{
 "cells": [
  {
   "cell_type": "code",
   "execution_count": 1,
   "metadata": {
    "collapsed": true
   },
   "outputs": [],
   "source": [
    "import numpy as np\n",
    "import pandas as pd\n",
    "import matplotlib.pyplot as plt\n",
    "%matplotlib inline "
   ]
  },
  {
   "cell_type": "code",
   "execution_count": 2,
   "metadata": {
    "collapsed": true
   },
   "outputs": [],
   "source": [
    "data = pd.read_csv('Credit_Card_Applications.csv')"
   ]
  },
  {
   "cell_type": "code",
   "execution_count": 3,
   "metadata": {},
   "outputs": [
    {
     "data": {
      "text/html": [
       "<div>\n",
       "<style>\n",
       "    .dataframe thead tr:only-child th {\n",
       "        text-align: right;\n",
       "    }\n",
       "\n",
       "    .dataframe thead th {\n",
       "        text-align: left;\n",
       "    }\n",
       "\n",
       "    .dataframe tbody tr th {\n",
       "        vertical-align: top;\n",
       "    }\n",
       "</style>\n",
       "<table border=\"1\" class=\"dataframe\">\n",
       "  <thead>\n",
       "    <tr style=\"text-align: right;\">\n",
       "      <th></th>\n",
       "      <th>CustomerID</th>\n",
       "      <th>A1</th>\n",
       "      <th>A2</th>\n",
       "      <th>A3</th>\n",
       "      <th>A4</th>\n",
       "      <th>A5</th>\n",
       "      <th>A6</th>\n",
       "      <th>A7</th>\n",
       "      <th>A8</th>\n",
       "      <th>A9</th>\n",
       "      <th>A10</th>\n",
       "      <th>A11</th>\n",
       "      <th>A12</th>\n",
       "      <th>A13</th>\n",
       "      <th>A14</th>\n",
       "      <th>Class</th>\n",
       "    </tr>\n",
       "  </thead>\n",
       "  <tbody>\n",
       "    <tr>\n",
       "      <th>0</th>\n",
       "      <td>15776156</td>\n",
       "      <td>1</td>\n",
       "      <td>22.08</td>\n",
       "      <td>11.46</td>\n",
       "      <td>2</td>\n",
       "      <td>4</td>\n",
       "      <td>4</td>\n",
       "      <td>1.585</td>\n",
       "      <td>0</td>\n",
       "      <td>0</td>\n",
       "      <td>0</td>\n",
       "      <td>1</td>\n",
       "      <td>2</td>\n",
       "      <td>100</td>\n",
       "      <td>1213</td>\n",
       "      <td>0</td>\n",
       "    </tr>\n",
       "    <tr>\n",
       "      <th>1</th>\n",
       "      <td>15739548</td>\n",
       "      <td>0</td>\n",
       "      <td>22.67</td>\n",
       "      <td>7.00</td>\n",
       "      <td>2</td>\n",
       "      <td>8</td>\n",
       "      <td>4</td>\n",
       "      <td>0.165</td>\n",
       "      <td>0</td>\n",
       "      <td>0</td>\n",
       "      <td>0</td>\n",
       "      <td>0</td>\n",
       "      <td>2</td>\n",
       "      <td>160</td>\n",
       "      <td>1</td>\n",
       "      <td>0</td>\n",
       "    </tr>\n",
       "    <tr>\n",
       "      <th>2</th>\n",
       "      <td>15662854</td>\n",
       "      <td>0</td>\n",
       "      <td>29.58</td>\n",
       "      <td>1.75</td>\n",
       "      <td>1</td>\n",
       "      <td>4</td>\n",
       "      <td>4</td>\n",
       "      <td>1.250</td>\n",
       "      <td>0</td>\n",
       "      <td>0</td>\n",
       "      <td>0</td>\n",
       "      <td>1</td>\n",
       "      <td>2</td>\n",
       "      <td>280</td>\n",
       "      <td>1</td>\n",
       "      <td>0</td>\n",
       "    </tr>\n",
       "    <tr>\n",
       "      <th>3</th>\n",
       "      <td>15687688</td>\n",
       "      <td>0</td>\n",
       "      <td>21.67</td>\n",
       "      <td>11.50</td>\n",
       "      <td>1</td>\n",
       "      <td>5</td>\n",
       "      <td>3</td>\n",
       "      <td>0.000</td>\n",
       "      <td>1</td>\n",
       "      <td>1</td>\n",
       "      <td>11</td>\n",
       "      <td>1</td>\n",
       "      <td>2</td>\n",
       "      <td>0</td>\n",
       "      <td>1</td>\n",
       "      <td>1</td>\n",
       "    </tr>\n",
       "    <tr>\n",
       "      <th>4</th>\n",
       "      <td>15715750</td>\n",
       "      <td>1</td>\n",
       "      <td>20.17</td>\n",
       "      <td>8.17</td>\n",
       "      <td>2</td>\n",
       "      <td>6</td>\n",
       "      <td>4</td>\n",
       "      <td>1.960</td>\n",
       "      <td>1</td>\n",
       "      <td>1</td>\n",
       "      <td>14</td>\n",
       "      <td>0</td>\n",
       "      <td>2</td>\n",
       "      <td>60</td>\n",
       "      <td>159</td>\n",
       "      <td>1</td>\n",
       "    </tr>\n",
       "  </tbody>\n",
       "</table>\n",
       "</div>"
      ],
      "text/plain": [
       "   CustomerID  A1     A2     A3  A4  A5  A6     A7  A8  A9  A10  A11  A12  \\\n",
       "0    15776156   1  22.08  11.46   2   4   4  1.585   0   0    0    1    2   \n",
       "1    15739548   0  22.67   7.00   2   8   4  0.165   0   0    0    0    2   \n",
       "2    15662854   0  29.58   1.75   1   4   4  1.250   0   0    0    1    2   \n",
       "3    15687688   0  21.67  11.50   1   5   3  0.000   1   1   11    1    2   \n",
       "4    15715750   1  20.17   8.17   2   6   4  1.960   1   1   14    0    2   \n",
       "\n",
       "   A13   A14  Class  \n",
       "0  100  1213      0  \n",
       "1  160     1      0  \n",
       "2  280     1      0  \n",
       "3    0     1      1  \n",
       "4   60   159      1  "
      ]
     },
     "execution_count": 3,
     "metadata": {},
     "output_type": "execute_result"
    }
   ],
   "source": [
    "data.head()"
   ]
  },
  {
   "cell_type": "code",
   "execution_count": 4,
   "metadata": {
    "collapsed": true
   },
   "outputs": [],
   "source": [
    "x = data.iloc[:,:-1].values"
   ]
  },
  {
   "cell_type": "code",
   "execution_count": 6,
   "metadata": {
    "collapsed": true
   },
   "outputs": [],
   "source": [
    "y = data.iloc[:,-1].values"
   ]
  },
  {
   "cell_type": "code",
   "execution_count": 8,
   "metadata": {
    "scrolled": false
   },
   "outputs": [
    {
     "data": {
      "text/plain": [
       "array([[  1.57761560e+07,   1.00000000e+00,   2.20800000e+01, ...,\n",
       "          2.00000000e+00,   1.00000000e+02,   1.21300000e+03],\n",
       "       [  1.57395480e+07,   0.00000000e+00,   2.26700000e+01, ...,\n",
       "          2.00000000e+00,   1.60000000e+02,   1.00000000e+00],\n",
       "       [  1.56628540e+07,   0.00000000e+00,   2.95800000e+01, ...,\n",
       "          2.00000000e+00,   2.80000000e+02,   1.00000000e+00],\n",
       "       ..., \n",
       "       [  1.56754500e+07,   0.00000000e+00,   1.88300000e+01, ...,\n",
       "          2.00000000e+00,   1.00000000e+02,   1.00000000e+00],\n",
       "       [  1.57764940e+07,   0.00000000e+00,   2.74200000e+01, ...,\n",
       "          2.00000000e+00,   1.20000000e+02,   1.20000000e+01],\n",
       "       [  1.55924120e+07,   1.00000000e+00,   4.10000000e+01, ...,\n",
       "          1.00000000e+00,   5.60000000e+02,   1.00000000e+00]])"
      ]
     },
     "execution_count": 8,
     "metadata": {},
     "output_type": "execute_result"
    }
   ],
   "source": [
    "x"
   ]
  },
  {
   "cell_type": "code",
   "execution_count": 9,
   "metadata": {},
   "outputs": [
    {
     "data": {
      "text/plain": [
       "array([0, 0, 0, 1, 1, 1, 0, 1, 0, 0, 1, 1, 0, 1, 0, 1, 1, 1, 0, 1, 0, 0, 0,\n",
       "       0, 0, 1, 0, 1, 1, 1, 1, 0, 0, 1, 0, 0, 1, 1, 1, 1, 1, 0, 1, 0, 0, 1,\n",
       "       0, 1, 0, 1, 0, 0, 0, 0, 0, 1, 1, 0, 1, 1, 0, 0, 1, 0, 1, 1, 0, 0, 0,\n",
       "       1, 0, 0, 0, 1, 1, 0, 0, 0, 0, 1, 1, 0, 0, 0, 0, 1, 0, 1, 1, 0, 0, 0,\n",
       "       0, 1, 0, 1, 0, 0, 0, 1, 0, 1, 1, 1, 0, 1, 1, 0, 1, 0, 0, 0, 0, 1, 0,\n",
       "       1, 1, 1, 1, 1, 1, 0, 0, 1, 1, 0, 1, 0, 1, 1, 1, 0, 0, 0, 0, 0, 0, 1,\n",
       "       1, 1, 0, 0, 0, 1, 0, 1, 1, 0, 0, 1, 1, 0, 0, 0, 1, 1, 1, 0, 1, 0, 0,\n",
       "       0, 1, 1, 0, 0, 0, 1, 0, 0, 0, 1, 0, 0, 1, 0, 0, 0, 1, 1, 0, 0, 1, 1,\n",
       "       1, 0, 0, 0, 0, 0, 0, 1, 0, 0, 0, 1, 1, 0, 0, 0, 1, 0, 1, 0, 1, 1, 0,\n",
       "       0, 0, 0, 1, 1, 0, 0, 0, 1, 0, 0, 0, 1, 1, 0, 1, 0, 0, 0, 0, 1, 1, 1,\n",
       "       1, 0, 0, 1, 1, 1, 0, 0, 0, 1, 1, 1, 1, 0, 0, 0, 0, 1, 1, 1, 0, 0, 1,\n",
       "       0, 1, 1, 1, 1, 0, 0, 0, 1, 0, 1, 1, 0, 0, 1, 0, 0, 0, 1, 0, 1, 1, 0,\n",
       "       0, 0, 1, 1, 0, 0, 0, 0, 0, 1, 1, 1, 0, 0, 0, 0, 1, 1, 1, 0, 0, 0, 1,\n",
       "       0, 1, 0, 0, 0, 0, 1, 0, 1, 0, 0, 0, 0, 0, 1, 1, 0, 0, 1, 0, 1, 1, 1,\n",
       "       1, 1, 1, 1, 0, 0, 0, 0, 1, 1, 1, 0, 0, 0, 1, 0, 1, 0, 0, 0, 1, 1, 1,\n",
       "       1, 1, 1, 1, 0, 1, 0, 1, 0, 0, 0, 0, 0, 1, 0, 1, 1, 0, 0, 0, 0, 0, 1,\n",
       "       0, 1, 1, 0, 0, 0, 1, 1, 1, 0, 0, 1, 1, 0, 0, 0, 1, 1, 0, 1, 1, 1, 1,\n",
       "       0, 0, 1, 1, 0, 0, 0, 0, 0, 0, 1, 0, 0, 0, 1, 1, 0, 1, 0, 0, 0, 1, 1,\n",
       "       1, 0, 0, 1, 0, 1, 1, 1, 0, 1, 0, 0, 1, 0, 0, 0, 1, 0, 0, 1, 0, 1, 0,\n",
       "       1, 1, 0, 1, 0, 0, 1, 0, 1, 1, 0, 0, 0, 0, 0, 1, 1, 0, 0, 1, 1, 0, 1,\n",
       "       0, 1, 0, 1, 0, 1, 1, 0, 1, 0, 1, 1, 1, 0, 0, 0, 0, 0, 1, 0, 1, 0, 0,\n",
       "       0, 1, 1, 1, 1, 1, 0, 1, 1, 0, 0, 0, 1, 1, 1, 1, 1, 1, 0, 1, 1, 1, 1,\n",
       "       0, 0, 0, 0, 0, 0, 0, 1, 0, 0, 1, 1, 1, 0, 1, 0, 0, 1, 1, 0, 1, 0, 0,\n",
       "       0, 0, 0, 0, 1, 0, 1, 0, 1, 1, 1, 0, 0, 1, 0, 0, 0, 0, 0, 0, 0, 1, 1,\n",
       "       0, 0, 0, 0, 0, 1, 0, 1, 0, 1, 0, 0, 1, 1, 1, 0, 0, 0, 0, 0, 1, 0, 1,\n",
       "       1, 0, 0, 0, 0, 0, 1, 1, 1, 0, 1, 0, 1, 1, 0, 0, 1, 0, 1, 0, 0, 1, 1,\n",
       "       0, 1, 0, 1, 1, 1, 1, 0, 0, 1, 0, 1, 1, 0, 1, 0, 1, 1, 0, 0, 0, 1, 0,\n",
       "       1, 1, 0, 1, 0, 0, 0, 0, 0, 1, 0, 1, 0, 0, 0, 0, 0, 0, 1, 0, 1, 1, 0,\n",
       "       0, 0, 0, 0, 0, 1, 1, 0, 0, 1, 0, 0, 1, 0, 0, 1, 1, 0, 1, 1, 0, 0, 0,\n",
       "       0, 0, 0, 1, 1, 0, 1, 1, 0, 0, 0, 0, 1, 0, 0, 1, 0, 1, 1, 0, 1, 1, 1], dtype=int64)"
      ]
     },
     "execution_count": 9,
     "metadata": {},
     "output_type": "execute_result"
    }
   ],
   "source": [
    "y"
   ]
  },
  {
   "cell_type": "code",
   "execution_count": 10,
   "metadata": {
    "collapsed": true
   },
   "outputs": [],
   "source": [
    "from sklearn.preprocessing import MinMaxScaler"
   ]
  },
  {
   "cell_type": "code",
   "execution_count": 12,
   "metadata": {
    "collapsed": true
   },
   "outputs": [],
   "source": [
    "sc = MinMaxScaler(feature_range=(0,1))"
   ]
  },
  {
   "cell_type": "code",
   "execution_count": 13,
   "metadata": {
    "collapsed": true
   },
   "outputs": [],
   "source": [
    "x = sc.fit_transform(x)"
   ]
  },
  {
   "cell_type": "code",
   "execution_count": 14,
   "metadata": {
    "collapsed": true
   },
   "outputs": [],
   "source": [
    "from minisom import MiniSom"
   ]
  },
  {
   "cell_type": "code",
   "execution_count": 15,
   "metadata": {
    "collapsed": true
   },
   "outputs": [],
   "source": [
    "som = MiniSom(x=10,y=10,input_len=15,sigma=1.0,learning_rate=0.5)"
   ]
  },
  {
   "cell_type": "code",
   "execution_count": 16,
   "metadata": {
    "collapsed": true
   },
   "outputs": [],
   "source": [
    "som.random_weights_init(x)"
   ]
  },
  {
   "cell_type": "code",
   "execution_count": 17,
   "metadata": {
    "collapsed": true
   },
   "outputs": [],
   "source": [
    "som.train_random(data = x,num_iteration=100)"
   ]
  },
  {
   "cell_type": "code",
   "execution_count": 18,
   "metadata": {
    "collapsed": true
   },
   "outputs": [],
   "source": [
    "from pylab import bone ,colorbar , pcolor , plot , show"
   ]
  },
  {
   "cell_type": "code",
   "execution_count": 20,
   "metadata": {},
   "outputs": [
    {
     "data": {
      "image/png": "[encoded data removed]",
      "text/plain": [
       "<matplotlib.figure.Figure at 0x2df5bef8c18>"
      ]
     },
     "metadata": {},
     "output_type": "display_data"
    }
   ],
   "source": [
    "bone()\n",
    "pcolor(som.distance_map().T)\n",
    "colorbar()\n",
    "markers = ['o', 's']\n",
    "colors = ['r', 'g']\n",
    "for i, j in enumerate(x):\n",
    "    w = som.winner(j)\n",
    "    plot(w[0] + 0.5,\n",
    "         w[1] + 0.5,\n",
    "         markers[y[i]],\n",
    "         markeredgecolor = colors[y[i]],\n",
    "         markerfacecolor = 'None',\n",
    "         markersize = 10,\n",
    "         markeredgewidth = 2)\n",
    "show()"
   ]
  },
  {
   "cell_type": "code",
   "execution_count": 22,
   "metadata": {},
   "outputs": [],
   "source": [
    "mappings = som.win_map(x)"
   ]
  },
  {
   "cell_type": "code",
   "execution_count": 26,
   "metadata": {
    "collapsed": true
   },
   "outputs": [],
   "source": [
    "frauds = np.concatenate((mappings[(1,7)], mappings[(2,9)],mappings[(4,1)]), axis = 0)\n",
    "frauds = sc.inverse_transform(frauds)"
   ]
  },
  {
   "cell_type": "code",
   "execution_count": 27,
   "metadata": {},
   "outputs": [
    {
     "data": {
      "text/plain": [
       "1095"
      ]
     },
     "execution_count": 27,
     "metadata": {},
     "output_type": "execute_result"
    }
   ],
   "source": [
    "frauds.size"
   ]
  },
  {
   "cell_type": "code",
   "execution_count": 28,
   "metadata": {
    "collapsed": true
   },
   "outputs": [],
   "source": [
    "customers = data.iloc[:,1:].values"
   ]
  },
  {
   "cell_type": "code",
   "execution_count": 29,
   "metadata": {},
   "outputs": [
    {
     "data": {
      "text/plain": [
       "10350"
      ]
     },
     "execution_count": 29,
     "metadata": {},
     "output_type": "execute_result"
    }
   ],
   "source": [
    "customers.size"
   ]
  },
  {
   "cell_type": "code",
   "execution_count": 30,
   "metadata": {
    "collapsed": true
   },
   "outputs": [],
   "source": [
    "##creating dependent variable \n",
    "is_fraud = np.zeros(len(data))"
   ]
  },
  {
   "cell_type": "code",
   "execution_count": 31,
   "metadata": {
    "collapsed": true
   },
   "outputs": [],
   "source": [
    "# to check if the customers are fraud from the fraud list created above \n",
    "for i in range(len(data)):\n",
    "    if(data.iloc[i,0] in frauds):\n",
    "        is_fraud[i]=1"
   ]
  },
  {
   "cell_type": "code",
   "execution_count": 32,
   "metadata": {},
   "outputs": [
    {
     "data": {
      "text/plain": [
       "array([ 0.,  0.,  0.,  0.,  0.,  0.,  1.,  0.,  0.,  0.,  0.,  0.,  0.,\n",
       "        0.,  0.,  1.,  0.,  0.,  0.,  0.,  0.,  0.,  1.,  0.,  1.,  0.,\n",
       "        0.,  0.,  0.,  0.,  0.,  0.,  0.,  0.,  0.,  0.,  0.,  0.,  0.,\n",
       "        0.,  0.,  0.,  0.,  0.,  0.,  0.,  0.,  1.,  0.,  0.,  0.,  1.,\n",
       "        0.,  0.,  0.,  0.,  0.,  0.,  0.,  0.,  0.,  0.,  0.,  0.,  1.,\n",
       "        0.,  0.,  0.,  0.,  0.,  0.,  0.,  1.,  0.,  0.,  1.,  0.,  1.,\n",
       "        0.,  0.,  0.,  0.,  0.,  1.,  0.,  0.,  0.,  0.,  0.,  0.,  0.,\n",
       "        0.,  1.,  0.,  0.,  1.,  0.,  0.,  0.,  0.,  0.,  0.,  0.,  0.,\n",
       "        0.,  0.,  0.,  1.,  0.,  0.,  0.,  0.,  0.,  0.,  0.,  0.,  0.,\n",
       "        0.,  0.,  0.,  0.,  0.,  0.,  0.,  0.,  0.,  0.,  1.,  1.,  0.,\n",
       "        0.,  0.,  1.,  0.,  0.,  0.,  0.,  0.,  0.,  0.,  0.,  0.,  0.,\n",
       "        0.,  0.,  0.,  0.,  0.,  0.,  0.,  0.,  0.,  1.,  0.,  0.,  0.,\n",
       "        0.,  0.,  0.,  0.,  1.,  0.,  0.,  0.,  0.,  0.,  0.,  0.,  1.,\n",
       "        0.,  1.,  0.,  0.,  0.,  0.,  0.,  0.,  0.,  0.,  0.,  0.,  0.,\n",
       "        0.,  0.,  0.,  0.,  0.,  0.,  0.,  0.,  0.,  0.,  0.,  0.,  0.,\n",
       "        0.,  0.,  0.,  0.,  0.,  0.,  0.,  0.,  0.,  0.,  0.,  0.,  0.,\n",
       "        0.,  0.,  0.,  0.,  0.,  0.,  0.,  0.,  0.,  1.,  1.,  0.,  0.,\n",
       "        1.,  0.,  0.,  0.,  0.,  0.,  0.,  0.,  0.,  0.,  0.,  0.,  0.,\n",
       "        0.,  0.,  0.,  0.,  0.,  0.,  1.,  0.,  0.,  0.,  1.,  0.,  0.,\n",
       "        0.,  0.,  1.,  0.,  0.,  0.,  1.,  1.,  0.,  0.,  0.,  0.,  0.,\n",
       "        0.,  0.,  0.,  0.,  0.,  0.,  0.,  0.,  0.,  0.,  0.,  0.,  0.,\n",
       "        0.,  0.,  0.,  0.,  0.,  0.,  0.,  0.,  0.,  0.,  0.,  0.,  0.,\n",
       "        0.,  0.,  0.,  0.,  0.,  0.,  0.,  0.,  0.,  0.,  0.,  0.,  0.,\n",
       "        0.,  0.,  0.,  0.,  1.,  0.,  0.,  0.,  0.,  0.,  0.,  1.,  0.,\n",
       "        0.,  0.,  0.,  1.,  0.,  0.,  0.,  0.,  0.,  0.,  0.,  0.,  0.,\n",
       "        0.,  0.,  0.,  1.,  0.,  0.,  0.,  0.,  0.,  0.,  0.,  0.,  0.,\n",
       "        1.,  0.,  0.,  0.,  0.,  0.,  0.,  0.,  0.,  0.,  0.,  0.,  1.,\n",
       "        0.,  0.,  0.,  1.,  0.,  0.,  0.,  0.,  0.,  0.,  0.,  0.,  0.,\n",
       "        0.,  0.,  0.,  0.,  0.,  0.,  1.,  1.,  0.,  0.,  0.,  0.,  0.,\n",
       "        1.,  1.,  0.,  0.,  0.,  0.,  0.,  0.,  0.,  0.,  0.,  0.,  0.,\n",
       "        0.,  0.,  0.,  0.,  0.,  0.,  0.,  0.,  0.,  1.,  0.,  0.,  0.,\n",
       "        0.,  0.,  0.,  0.,  0.,  0.,  1.,  0.,  0.,  0.,  0.,  1.,  0.,\n",
       "        1.,  0.,  0.,  1.,  0.,  0.,  0.,  0.,  0.,  0.,  0.,  0.,  0.,\n",
       "        0.,  0.,  0.,  0.,  0.,  0.,  0.,  0.,  0.,  0.,  0.,  0.,  0.,\n",
       "        1.,  0.,  0.,  0.,  0.,  0.,  0.,  0.,  0.,  0.,  0.,  0.,  0.,\n",
       "        0.,  0.,  0.,  0.,  0.,  0.,  0.,  0.,  0.,  0.,  0.,  0.,  0.,\n",
       "        0.,  0.,  0.,  0.,  0.,  0.,  0.,  0.,  0.,  0.,  0.,  0.,  0.,\n",
       "        0.,  0.,  0.,  0.,  0.,  0.,  0.,  0.,  0.,  0.,  0.,  0.,  1.,\n",
       "        0.,  0.,  0.,  0.,  0.,  0.,  0.,  0.,  0.,  0.,  0.,  0.,  0.,\n",
       "        0.,  0.,  0.,  0.,  1.,  0.,  0.,  1.,  0.,  0.,  0.,  0.,  0.,\n",
       "        0.,  0.,  0.,  0.,  0.,  0.,  0.,  0.,  1.,  0.,  0.,  0.,  1.,\n",
       "        0.,  0.,  0.,  1.,  0.,  0.,  0.,  0.,  0.,  0.,  0.,  0.,  0.,\n",
       "        1.,  1.,  0.,  0.,  0.,  0.,  0.,  0.,  1.,  0.,  0.,  0.,  0.,\n",
       "        0.,  0.,  0.,  0.,  0.,  0.,  0.,  1.,  0.,  0.,  0.,  0.,  0.,\n",
       "        0.,  0.,  0.,  0.,  0.,  0.,  0.,  1.,  0.,  0.,  0.,  0.,  0.,\n",
       "        0.,  0.,  0.,  0.,  0.,  0.,  0.,  1.,  0.,  0.,  0.,  0.,  0.,\n",
       "        0.,  0.,  0.,  0.,  0.,  0.,  0.,  0.,  0.,  0.,  0.,  0.,  0.,\n",
       "        0.,  0.,  0.,  0.,  0.,  0.,  0.,  0.,  0.,  0.,  0.,  0.,  0.,\n",
       "        0.,  0.,  0.,  0.,  0.,  0.,  0.,  1.,  1.,  0.,  1.,  0.,  1.,\n",
       "        0.,  0.,  0.,  1.,  0.,  0.,  1.,  0.,  0.,  0.,  0.,  0.,  0.,\n",
       "        0.,  0.,  0.,  0.,  0.,  0.,  0.,  0.,  1.,  1.,  0.,  0.,  0.,\n",
       "        1.,  1.,  0.,  0.,  1.,  0.,  1.,  0.,  0.,  0.,  0.,  0.,  0.,\n",
       "        0.,  0.,  0.,  0.,  0.,  0.,  1.,  0.,  0.,  0.,  1.,  1.,  0.,  0.])"
      ]
     },
     "execution_count": 32,
     "metadata": {},
     "output_type": "execute_result"
    }
   ],
   "source": [
    "is_fraud"
   ]
  },
  {
   "cell_type": "code",
   "execution_count": 33,
   "metadata": {
    "collapsed": true
   },
   "outputs": [],
   "source": [
    "import os\n",
    "os.environ['TF_CPP_MIN_LOG_LEVEL']='2'\n",
    "import tensorflow as tf\n",
    "from keras.models import Sequential\n",
    "from keras.layers import Dense"
   ]
  },
  {
   "cell_type": "code",
   "execution_count": 50,
   "metadata": {
    "collapsed": true
   },
   "outputs": [],
   "source": [
    "classifier = Sequential()"
   ]
  },
  {
   "cell_type": "code",
   "execution_count": 51,
   "metadata": {
    "collapsed": true
   },
   "outputs": [],
   "source": [
    "classifier.add(Dense(units = 2 ,kernel_initializer='uniform',activation='relu',input_dim=15))"
   ]
  },
  {
   "cell_type": "code",
   "execution_count": 52,
   "metadata": {},
   "outputs": [],
   "source": [
    "classifier.add(Dense(units =2,kernel_initializer='uniform',activation = 'relu'))"
   ]
  },
  {
   "cell_type": "code",
   "execution_count": 53,
   "metadata": {
    "collapsed": true
   },
   "outputs": [],
   "source": [
    "classifier.add(Dense(units = 1 ,kernel_initializer='uniform',activation = 'sigmoid'))"
   ]
  },
  {
   "cell_type": "code",
   "execution_count": 54,
   "metadata": {
    "collapsed": true
   },
   "outputs": [],
   "source": [
    "from sklearn.preprocessing import StandardScaler"
   ]
  },
  {
   "cell_type": "code",
   "execution_count": 55,
   "metadata": {
    "collapsed": true
   },
   "outputs": [],
   "source": [
    "sd = StandardScaler()\n",
    "customer = sd.fit_transform(customers)"
   ]
  },
  {
   "cell_type": "code",
   "execution_count": 56,
   "metadata": {
    "collapsed": true
   },
   "outputs": [],
   "source": [
    "classifier.compile(optimizer='adam',loss='binary_crossentropy',metrics =['accuracy'])"
   ]
  },
  {
   "cell_type": "code",
   "execution_count": 57,
   "metadata": {},
   "outputs": [
    {
     "name": "stdout",
     "output_type": "stream",
     "text": [
      "Epoch 1/5\n",
      "690/690 [==============================] - 0s - loss: 0.5059 - acc: 0.8942     \n",
      "Epoch 2/5\n",
      "690/690 [==============================] - 0s - loss: 0.2666 - acc: 0.8942     \n",
      "Epoch 3/5\n",
      "690/690 [==============================] - 0s - loss: 0.2268 - acc: 0.8942     \n",
      "Epoch 4/5\n",
      "690/690 [==============================] - 0s - loss: 0.2066 - acc: 0.8942     \n",
      "Epoch 5/5\n",
      "690/690 [==============================] - 0s - loss: 0.1899 - acc: 0.8942     \n"
     ]
    },
    {
     "data": {
      "text/plain": [
       "<keras.callbacks.History at 0x2df61daa6a0>"
      ]
     },
     "execution_count": 57,
     "metadata": {},
     "output_type": "execute_result"
    }
   ],
   "source": [
    "classifier.fit(customer,is_fraud,batch_size=1 ,epochs =5)"
   ]
  },
  {
   "cell_type": "code",
   "execution_count": 58,
   "metadata": {
    "collapsed": true
   },
   "outputs": [],
   "source": [
    "y_pred = classifier.predict(customer)"
   ]
  },
  {
   "cell_type": "code",
   "execution_count": 59,
   "metadata": {},
   "outputs": [
    {
     "data": {
      "text/plain": [
       "array([[  3.77911739e-02],\n",
       "       [  2.97836363e-01],\n",
       "       [  1.02533437e-02],\n",
       "       [  2.71437864e-04],\n",
       "       [  2.16895062e-03],\n",
       "       [  4.55687791e-02],\n",
       "       [  3.14188629e-01],\n",
       "       [  6.89556869e-03],\n",
       "       [  1.17005251e-01],\n",
       "       [  3.43653664e-04],\n",
       "       [  1.15152441e-04],\n",
       "       [  9.67110973e-05],\n",
       "       [  4.89987397e-05],\n",
       "       [  1.03443839e-04],\n",
       "       [  3.65198893e-03],\n",
       "       [  2.84287602e-01],\n",
       "       [  2.08320213e-04],\n",
       "       [  5.51529229e-02],\n",
       "       [  1.36341199e-01],\n",
       "       [  2.31180638e-02],\n",
       "       [  2.23411933e-01],\n",
       "       [  5.62614482e-03],\n",
       "       [  2.41756380e-01],\n",
       "       [  8.60098526e-02],\n",
       "       [  3.14188629e-01],\n",
       "       [  1.16117932e-04],\n",
       "       [  1.18504025e-01],\n",
       "       [  3.01000080e-04],\n",
       "       [  4.92103547e-02],\n",
       "       [  1.53348170e-04],\n",
       "       [  1.98726324e-04],\n",
       "       [  1.96978394e-02],\n",
       "       [  3.03107459e-04],\n",
       "       [  2.38368229e-04],\n",
       "       [  2.34649822e-04],\n",
       "       [  2.82301148e-03],\n",
       "       [  1.39827244e-02],\n",
       "       [  1.74015557e-04],\n",
       "       [  4.16260067e-04],\n",
       "       [  3.07480310e-04],\n",
       "       [  6.31360859e-02],\n",
       "       [  3.70963453e-03],\n",
       "       [  6.68527111e-02],\n",
       "       [  3.48821595e-05],\n",
       "       [  4.31730039e-03],\n",
       "       [  1.81698648e-03],\n",
       "       [  1.20161846e-01],\n",
       "       [  3.04996550e-01],\n",
       "       [  1.08638085e-01],\n",
       "       [  8.14570114e-03],\n",
       "       [  1.38779851e-02],\n",
       "       [  1.71799660e-01],\n",
       "       [  1.16125487e-01],\n",
       "       [  3.72878765e-03],\n",
       "       [  1.08279673e-04],\n",
       "       [  9.44101193e-05],\n",
       "       [  6.40783086e-03],\n",
       "       [  1.95336878e-01],\n",
       "       [  8.61796085e-04],\n",
       "       [  1.25630075e-04],\n",
       "       [  1.01401908e-02],\n",
       "       [  2.38121417e-03],\n",
       "       [  9.10853967e-03],\n",
       "       [  1.67826220e-01],\n",
       "       [  3.14188629e-01],\n",
       "       [  1.82693149e-03],\n",
       "       [  2.66225133e-02],\n",
       "       [  1.31445145e-02],\n",
       "       [  1.75587535e-02],\n",
       "       [  8.33893355e-05],\n",
       "       [  3.00469156e-03],\n",
       "       [  5.39822318e-02],\n",
       "       [  2.58670330e-01],\n",
       "       [  3.68189794e-05],\n",
       "       [  1.55626121e-03],\n",
       "       [  2.25707352e-01],\n",
       "       [  1.46884779e-02],\n",
       "       [  3.03837001e-01],\n",
       "       [  1.09143667e-02],\n",
       "       [  7.60541623e-03],\n",
       "       [  3.40665062e-03],\n",
       "       [  5.67089580e-02],\n",
       "       [  3.14188629e-01],\n",
       "       [  2.72390813e-01],\n",
       "       [  1.50509607e-02],\n",
       "       [  2.29959801e-01],\n",
       "       [  3.14188629e-01],\n",
       "       [  5.74217294e-04],\n",
       "       [  1.48112690e-02],\n",
       "       [  1.34308159e-01],\n",
       "       [  1.65956300e-02],\n",
       "       [  2.31931195e-01],\n",
       "       [  3.14188629e-01],\n",
       "       [  3.48610012e-03],\n",
       "       [  1.89843297e-01],\n",
       "       [  2.85239607e-01],\n",
       "       [  1.87269837e-01],\n",
       "       [  7.03428090e-02],\n",
       "       [  2.74569821e-03],\n",
       "       [  3.46113816e-02],\n",
       "       [  1.90737575e-01],\n",
       "       [  3.95399658e-03],\n",
       "       [  1.12050790e-02],\n",
       "       [  1.36403705e-03],\n",
       "       [  5.83263440e-03],\n",
       "       [  3.04621737e-02],\n",
       "       [  4.62368783e-03],\n",
       "       [  3.14188629e-01],\n",
       "       [  2.13700198e-02],\n",
       "       [  1.04093803e-02],\n",
       "       [  1.22750439e-01],\n",
       "       [  7.41694402e-03],\n",
       "       [  5.56222767e-05],\n",
       "       [  2.27379706e-02],\n",
       "       [  1.19459266e-02],\n",
       "       [  5.26099138e-05],\n",
       "       [  1.93287071e-03],\n",
       "       [  1.21686840e-04],\n",
       "       [  2.87311705e-04],\n",
       "       [  1.90577377e-03],\n",
       "       [  2.89107882e-03],\n",
       "       [  3.73207685e-03],\n",
       "       [  1.81081802e-01],\n",
       "       [  1.84107665e-02],\n",
       "       [  3.99914541e-04],\n",
       "       [  2.23547500e-02],\n",
       "       [  5.10408031e-03],\n",
       "       [  2.71097273e-01],\n",
       "       [  3.14188629e-01],\n",
       "       [  5.87851864e-05],\n",
       "       [  1.01650599e-03],\n",
       "       [  1.20670505e-01],\n",
       "       [  2.56280303e-01],\n",
       "       [  1.20611668e-01],\n",
       "       [  9.50340256e-02],\n",
       "       [  2.02151075e-01],\n",
       "       [  3.09179369e-02],\n",
       "       [  1.65349978e-03],\n",
       "       [  1.70728323e-04],\n",
       "       [  4.24934231e-04],\n",
       "       [  2.96536949e-03],\n",
       "       [  1.23256750e-01],\n",
       "       [  6.28171721e-03],\n",
       "       [  5.47394047e-05],\n",
       "       [  9.26686749e-02],\n",
       "       [  6.99250260e-03],\n",
       "       [  1.00813362e-04],\n",
       "       [  2.89980620e-01],\n",
       "       [  3.82491038e-03],\n",
       "       [  6.03467934e-02],\n",
       "       [  2.73105562e-01],\n",
       "       [  1.91018498e-03],\n",
       "       [  3.14188629e-01],\n",
       "       [  5.78176184e-03],\n",
       "       [  1.47071469e-03],\n",
       "       [  5.69315767e-03],\n",
       "       [  2.86157787e-01],\n",
       "       [  1.93052143e-01],\n",
       "       [  1.34487438e-03],\n",
       "       [  4.95746080e-03],\n",
       "       [  2.60982126e-01],\n",
       "       [  2.20983475e-02],\n",
       "       [  1.55979633e-05],\n",
       "       [  3.28422830e-05],\n",
       "       [  8.64302143e-02],\n",
       "       [  2.39872634e-02],\n",
       "       [  3.10553443e-02],\n",
       "       [  2.18300894e-01],\n",
       "       [  3.14188629e-01],\n",
       "       [  7.03284591e-02],\n",
       "       [  3.02487642e-01],\n",
       "       [  4.35505150e-04],\n",
       "       [  8.28294200e-04],\n",
       "       [  1.62190329e-02],\n",
       "       [  9.69657733e-04],\n",
       "       [  2.58042058e-03],\n",
       "       [  5.18769445e-03],\n",
       "       [  1.23946257e-02],\n",
       "       [  1.96729903e-03],\n",
       "       [  2.53365631e-03],\n",
       "       [  4.90734167e-02],\n",
       "       [  5.94873563e-04],\n",
       "       [  1.19132551e-06],\n",
       "       [  2.66477140e-03],\n",
       "       [  2.80153961e-03],\n",
       "       [  9.85259563e-03],\n",
       "       [  3.37852747e-03],\n",
       "       [  2.89909214e-01],\n",
       "       [  2.16249954e-02],\n",
       "       [  1.01626970e-01],\n",
       "       [  2.43102238e-02],\n",
       "       [  3.94399074e-04],\n",
       "       [  2.39535160e-02],\n",
       "       [  2.04832122e-01],\n",
       "       [  9.44261700e-02],\n",
       "       [  1.45329244e-03],\n",
       "       [  5.56111261e-02],\n",
       "       [  1.69331282e-02],\n",
       "       [  1.39590561e-01],\n",
       "       [  5.05855889e-04],\n",
       "       [  4.22164313e-02],\n",
       "       [  1.27483934e-01],\n",
       "       [  3.99700627e-02],\n",
       "       [  1.93881337e-02],\n",
       "       [  5.38712693e-03],\n",
       "       [  6.14588428e-03],\n",
       "       [  1.60608828e-01],\n",
       "       [  1.91166140e-02],\n",
       "       [  5.04730036e-04],\n",
       "       [  1.57616404e-03],\n",
       "       [  2.99520772e-02],\n",
       "       [  1.67586915e-02],\n",
       "       [  2.67570862e-03],\n",
       "       [  4.54682246e-04],\n",
       "       [  1.16037093e-02],\n",
       "       [  2.63385754e-02],\n",
       "       [  2.28539839e-01],\n",
       "       [  3.14188629e-01],\n",
       "       [  3.14188629e-01],\n",
       "       [  2.43128990e-04],\n",
       "       [  9.05335706e-04],\n",
       "       [  3.14188629e-01],\n",
       "       [  2.40252222e-04],\n",
       "       [  6.71086891e-04],\n",
       "       [  9.85988379e-02],\n",
       "       [  1.14167005e-01],\n",
       "       [  9.10799727e-02],\n",
       "       [  8.85655358e-02],\n",
       "       [  1.39526135e-04],\n",
       "       [  8.14752013e-04],\n",
       "       [  3.40817906e-02],\n",
       "       [  4.83933720e-04],\n",
       "       [  3.59046418e-04],\n",
       "       [  2.30366313e-05],\n",
       "       [  1.05253914e-02],\n",
       "       [  1.11733256e-02],\n",
       "       [  1.30541012e-01],\n",
       "       [  1.15245432e-01],\n",
       "       [  9.91422683e-03],\n",
       "       [  5.57444505e-02],\n",
       "       [  3.14188629e-01],\n",
       "       [  3.71618755e-03],\n",
       "       [  7.89307815e-05],\n",
       "       [  2.22603586e-02],\n",
       "       [  3.14188629e-01],\n",
       "       [  2.73233210e-03],\n",
       "       [  3.33687197e-03],\n",
       "       [  4.64114601e-05],\n",
       "       [  2.72110774e-04],\n",
       "       [  2.78595805e-01],\n",
       "       [  2.42163409e-02],\n",
       "       [  8.07555486e-03],\n",
       "       [  1.66761500e-04],\n",
       "       [  2.27612242e-01],\n",
       "       [  3.13010573e-01],\n",
       "       [  7.43228663e-03],\n",
       "       [  3.29122832e-03],\n",
       "       [  2.97192112e-03],\n",
       "       [  1.59563292e-02],\n",
       "       [  8.57218355e-03],\n",
       "       [  3.40349786e-02],\n",
       "       [  8.71918499e-02],\n",
       "       [  4.52739075e-02],\n",
       "       [  6.90153008e-03],\n",
       "       [  1.51229009e-03],\n",
       "       [  2.50599487e-03],\n",
       "       [  1.21304416e-03],\n",
       "       [  6.15328969e-03],\n",
       "       [  1.21303191e-02],\n",
       "       [  1.43876774e-02],\n",
       "       [  3.14188629e-01],\n",
       "       [  9.51301977e-02],\n",
       "       [  3.14188629e-01],\n",
       "       [  1.03039011e-01],\n",
       "       [  8.18235055e-03],\n",
       "       [  3.70912906e-03],\n",
       "       [  7.79562164e-03],\n",
       "       [  1.15963995e-01],\n",
       "       [  3.04708467e-03],\n",
       "       [  5.83680859e-03],\n",
       "       [  1.27822487e-02],\n",
       "       [  1.05877750e-01],\n",
       "       [  6.10467792e-02],\n",
       "       [  9.61134490e-03],\n",
       "       [  2.36089341e-03],\n",
       "       [  1.99557064e-04],\n",
       "       [  3.61768980e-05],\n",
       "       [  4.31406386e-02],\n",
       "       [  2.16723830e-02],\n",
       "       [  2.12052360e-01],\n",
       "       [  5.15969424e-03],\n",
       "       [  2.53979280e-03],\n",
       "       [  4.19619400e-03],\n",
       "       [  5.40232941e-05],\n",
       "       [  3.02464562e-03],\n",
       "       [  5.19390255e-02],\n",
       "       [  2.49553332e-03],\n",
       "       [  1.11335935e-02],\n",
       "       [  8.33962549e-05],\n",
       "       [  8.41326546e-04],\n",
       "       [  6.09673843e-05],\n",
       "       [  2.87772939e-02],\n",
       "       [  1.32822404e-02],\n",
       "       [  3.14188629e-01],\n",
       "       [  4.60553495e-03],\n",
       "       [  4.33933783e-05],\n",
       "       [  2.50057966e-01],\n",
       "       [  1.14485044e-02],\n",
       "       [  2.38678115e-03],\n",
       "       [  6.96846342e-04],\n",
       "       [  1.73896730e-01],\n",
       "       [  8.21559690e-03],\n",
       "       [  7.79401790e-03],\n",
       "       [  1.41739389e-02],\n",
       "       [  8.58592335e-03],\n",
       "       [  3.03348660e-01],\n",
       "       [  8.80492665e-03],\n",
       "       [  7.72209954e-04],\n",
       "       [  2.68269747e-01],\n",
       "       [  4.48120497e-02],\n",
       "       [  8.44971000e-05],\n",
       "       [  7.87902623e-02],\n",
       "       [  5.93918194e-05],\n",
       "       [  1.14722647e-01],\n",
       "       [  2.72176512e-05],\n",
       "       [  3.14876344e-03],\n",
       "       [  1.89107638e-02],\n",
       "       [  1.77044850e-02],\n",
       "       [  3.14188629e-01],\n",
       "       [  5.64355915e-03],\n",
       "       [  8.94630887e-03],\n",
       "       [  9.57521796e-02],\n",
       "       [  7.56357377e-03],\n",
       "       [  1.76028872e-03],\n",
       "       [  6.43772725e-03],\n",
       "       [  1.83593277e-02],\n",
       "       [  9.61426366e-03],\n",
       "       [  1.83176771e-02],\n",
       "       [  2.35422224e-01],\n",
       "       [  4.32076398e-03],\n",
       "       [  1.47091206e-02],\n",
       "       [  9.54007031e-04],\n",
       "       [  1.41271285e-03],\n",
       "       [  5.65232430e-03],\n",
       "       [  1.73230432e-02],\n",
       "       [  2.03742413e-04],\n",
       "       [  7.19549775e-04],\n",
       "       [  2.12337542e-03],\n",
       "       [  2.23056227e-02],\n",
       "       [  2.78476775e-01],\n",
       "       [  3.14188629e-01],\n",
       "       [  3.03569585e-02],\n",
       "       [  1.71579552e-04],\n",
       "       [  5.13630360e-03],\n",
       "       [  3.14188629e-01],\n",
       "       [  4.60359675e-04],\n",
       "       [  3.68118566e-03],\n",
       "       [  3.02425288e-02],\n",
       "       [  2.28140806e-03],\n",
       "       [  2.15799045e-02],\n",
       "       [  4.51912310e-05],\n",
       "       [  1.50696991e-03],\n",
       "       [  2.40923162e-03],\n",
       "       [  2.99514420e-02],\n",
       "       [  1.53694693e-02],\n",
       "       [  1.35621168e-02],\n",
       "       [  8.08709413e-02],\n",
       "       [  1.99673651e-03],\n",
       "       [  3.08666602e-02],\n",
       "       [  3.63736553e-03],\n",
       "       [  3.14188629e-01],\n",
       "       [  3.14188629e-01],\n",
       "       [  1.77456841e-01],\n",
       "       [  2.15285574e-03],\n",
       "       [  1.14233308e-02],\n",
       "       [  1.21132405e-02],\n",
       "       [  2.04775584e-04],\n",
       "       [  3.04631978e-01],\n",
       "       [  1.08342998e-01],\n",
       "       [  4.55688359e-03],\n",
       "       [  1.66703161e-04],\n",
       "       [  2.59332545e-02],\n",
       "       [  6.35706410e-02],\n",
       "       [  1.29655406e-01],\n",
       "       [  5.81516884e-04],\n",
       "       [  2.70442571e-03],\n",
       "       [  2.53550392e-02],\n",
       "       [  1.37877278e-03],\n",
       "       [  5.98545466e-03],\n",
       "       [  1.98174641e-02],\n",
       "       [  3.52688739e-03],\n",
       "       [  9.81258787e-03],\n",
       "       [  1.00409098e-01],\n",
       "       [  2.32118461e-02],\n",
       "       [  2.82069325e-01],\n",
       "       [  2.79767369e-03],\n",
       "       [  1.79820079e-02],\n",
       "       [  2.83470601e-02],\n",
       "       [  4.31735627e-02],\n",
       "       [  1.01847745e-01],\n",
       "       [  2.43044719e-01],\n",
       "       [  1.34436996e-03],\n",
       "       [  1.33268756e-03],\n",
       "       [  1.26059363e-02],\n",
       "       [  2.86764920e-01],\n",
       "       [  1.13438128e-03],\n",
       "       [  7.60886073e-03],\n",
       "       [  1.05134964e-01],\n",
       "       [  2.45034462e-03],\n",
       "       [  3.14188629e-01],\n",
       "       [  8.93339217e-02],\n",
       "       [  1.51680514e-01],\n",
       "       [  8.70922301e-03],\n",
       "       [  9.67241867e-05],\n",
       "       [  3.14188629e-01],\n",
       "       [  2.84851082e-02],\n",
       "       [  3.11846614e-01],\n",
       "       [  6.82833511e-03],\n",
       "       [  3.14188629e-01],\n",
       "       [  3.14188629e-01],\n",
       "       [  5.93858585e-03],\n",
       "       [  2.25672405e-03],\n",
       "       [  9.72090140e-02],\n",
       "       [  3.33249569e-02],\n",
       "       [  1.11047849e-01],\n",
       "       [  1.02177255e-01],\n",
       "       [  8.41263961e-03],\n",
       "       [  6.81208738e-04],\n",
       "       [  2.91382782e-02],\n",
       "       [  3.13223223e-03],\n",
       "       [  1.42506724e-02],\n",
       "       [  2.01774598e-03],\n",
       "       [  1.25845056e-03],\n",
       "       [  1.46854276e-04],\n",
       "       [  7.55720946e-04],\n",
       "       [  2.73379235e-04],\n",
       "       [  9.16266348e-03],\n",
       "       [  8.98423095e-05],\n",
       "       [  2.05207989e-03],\n",
       "       [  1.71777885e-02],\n",
       "       [  5.15823141e-02],\n",
       "       [  1.11862766e-02],\n",
       "       [  2.85008937e-01],\n",
       "       [  7.61422068e-02],\n",
       "       [  2.89156824e-01],\n",
       "       [  2.28801859e-04],\n",
       "       [  4.49411012e-02],\n",
       "       [  1.22805186e-01],\n",
       "       [  8.95614363e-03],\n",
       "       [  2.61778563e-01],\n",
       "       [  2.07103994e-02],\n",
       "       [  4.27219598e-03],\n",
       "       [  1.11765742e-01],\n",
       "       [  8.02272186e-02],\n",
       "       [  7.37744104e-03],\n",
       "       [  2.03330517e-02],\n",
       "       [  3.22888698e-03],\n",
       "       [  1.82852859e-03],\n",
       "       [  1.90246031e-02],\n",
       "       [  4.38404083e-03],\n",
       "       [  6.31036528e-04],\n",
       "       [  5.47512136e-02],\n",
       "       [  2.78507262e-01],\n",
       "       [  4.74056508e-03],\n",
       "       [  2.80000977e-02],\n",
       "       [  1.28674775e-03],\n",
       "       [  3.38539598e-04],\n",
       "       [  2.22842118e-05],\n",
       "       [  2.63157394e-03],\n",
       "       [  2.01035384e-02],\n",
       "       [  4.42803546e-04],\n",
       "       [  1.10144168e-03],\n",
       "       [  2.03119591e-04],\n",
       "       [  1.08118989e-02],\n",
       "       [  5.09824343e-02],\n",
       "       [  2.82583733e-05],\n",
       "       [  1.57450303e-01],\n",
       "       [  3.14188629e-01],\n",
       "       [  2.94174179e-02],\n",
       "       [  3.09242178e-02],\n",
       "       [  2.61562075e-02],\n",
       "       [  1.07281037e-01],\n",
       "       [  2.97214061e-01],\n",
       "       [  1.74289255e-03],\n",
       "       [  5.61839193e-02],\n",
       "       [  7.22831464e-05],\n",
       "       [  6.17056576e-05],\n",
       "       [  5.16721606e-03],\n",
       "       [  2.45404686e-03],\n",
       "       [  8.51679593e-02],\n",
       "       [  5.71127639e-05],\n",
       "       [  2.66457978e-03],\n",
       "       [  4.83579636e-02],\n",
       "       [  2.23655939e-01],\n",
       "       [  7.85380974e-02],\n",
       "       [  2.42586404e-01],\n",
       "       [  8.65071267e-02],\n",
       "       [  7.30445900e-04],\n",
       "       [  8.75936896e-02],\n",
       "       [  7.07088551e-03],\n",
       "       [  3.14188629e-01],\n",
       "       [  1.74712315e-01],\n",
       "       [  5.93654913e-05],\n",
       "       [  2.74672592e-03],\n",
       "       [  1.06685322e-04],\n",
       "       [  1.08541399e-02],\n",
       "       [  3.14188629e-01],\n",
       "       [  4.47635986e-02],\n",
       "       [  7.08763897e-02],\n",
       "       [  1.51651227e-04],\n",
       "       [  2.77112518e-03],\n",
       "       [  3.14188629e-01],\n",
       "       [  1.23735070e-02],\n",
       "       [  3.91832727e-04],\n",
       "       [  3.14188629e-01],\n",
       "       [  2.13156585e-02],\n",
       "       [  6.38585091e-02],\n",
       "       [  4.88290340e-02],\n",
       "       [  2.11493782e-04],\n",
       "       [  2.22003326e-01],\n",
       "       [  2.03676173e-04],\n",
       "       [  1.58084169e-01],\n",
       "       [  5.77793457e-04],\n",
       "       [  4.35518101e-02],\n",
       "       [  3.84730310e-03],\n",
       "       [  3.14188629e-01],\n",
       "       [  1.49723282e-03],\n",
       "       [  1.50535051e-02],\n",
       "       [  1.18093416e-01],\n",
       "       [  2.95166112e-03],\n",
       "       [  1.96608319e-03],\n",
       "       [  2.33023420e-01],\n",
       "       [  2.53825247e-01],\n",
       "       [  6.89254235e-03],\n",
       "       [  3.66646331e-03],\n",
       "       [  2.80848872e-02],\n",
       "       [  2.90850848e-01],\n",
       "       [  1.83263402e-02],\n",
       "       [  1.55963162e-02],\n",
       "       [  4.11257474e-03],\n",
       "       [  2.40294278e-01],\n",
       "       [  3.87484059e-02],\n",
       "       [  1.19121920e-04],\n",
       "       [  7.92305693e-02],\n",
       "       [  7.54621287e-05],\n",
       "       [  1.24605373e-01],\n",
       "       [  2.05553427e-01],\n",
       "       [  3.14188629e-01],\n",
       "       [  9.03542340e-03],\n",
       "       [  4.45269942e-02],\n",
       "       [  4.70908089e-05],\n",
       "       [  9.00716055e-03],\n",
       "       [  1.67014554e-01],\n",
       "       [  1.03755817e-02],\n",
       "       [  1.31947383e-01],\n",
       "       [  6.64491998e-03],\n",
       "       [  1.23786777e-01],\n",
       "       [  9.29752216e-02],\n",
       "       [  7.51385232e-03],\n",
       "       [  5.78793872e-04],\n",
       "       [  8.93330108e-03],\n",
       "       [  1.41574722e-03],\n",
       "       [  3.98591459e-02],\n",
       "       [  2.09454179e-01],\n",
       "       [  5.70458142e-05],\n",
       "       [  4.36041242e-04],\n",
       "       [  2.46914119e-01],\n",
       "       [  3.04839597e-03],\n",
       "       [  1.86400805e-02],\n",
       "       [  3.06710345e-03],\n",
       "       [  1.04312506e-02],\n",
       "       [  3.91632356e-02],\n",
       "       [  1.53767448e-02],\n",
       "       [  2.67292392e-02],\n",
       "       [  1.06118874e-04],\n",
       "       [  1.57711133e-02],\n",
       "       [  6.91444194e-03],\n",
       "       [  1.75275803e-01],\n",
       "       [  2.13142559e-02],\n",
       "       [  2.42564127e-01],\n",
       "       [  7.89173618e-02],\n",
       "       [  4.73432615e-03],\n",
       "       [  6.18144078e-03],\n",
       "       [  5.43291727e-03],\n",
       "       [  1.15327150e-01],\n",
       "       [  1.07241933e-04],\n",
       "       [  1.00859385e-02],\n",
       "       [  2.26752162e-02],\n",
       "       [  6.49913866e-03],\n",
       "       [  6.51988983e-02],\n",
       "       [  6.83024991e-03],\n",
       "       [  1.58857682e-03],\n",
       "       [  2.95701236e-01],\n",
       "       [  1.83360287e-04],\n",
       "       [  1.85724363e-01],\n",
       "       [  7.02005671e-03],\n",
       "       [  5.77571206e-02],\n",
       "       [  4.17463109e-03],\n",
       "       [  2.03691293e-02],\n",
       "       [  8.77060011e-05],\n",
       "       [  3.14188629e-01],\n",
       "       [  3.24302749e-03],\n",
       "       [  2.66705942e-03],\n",
       "       [  4.24194112e-02],\n",
       "       [  1.51277171e-04],\n",
       "       [  6.07861280e-02],\n",
       "       [  2.28547305e-03],\n",
       "       [  2.38822703e-03],\n",
       "       [  2.47773081e-02],\n",
       "       [  9.97710153e-02],\n",
       "       [  1.01564440e-03],\n",
       "       [  8.13554227e-02],\n",
       "       [  6.67944225e-03],\n",
       "       [  6.86386004e-02],\n",
       "       [  3.31921619e-03],\n",
       "       [  1.16268117e-02],\n",
       "       [  2.58074582e-01],\n",
       "       [  2.52533215e-03],\n",
       "       [  8.09096918e-02],\n",
       "       [  4.74517979e-03],\n",
       "       [  2.64089685e-02],\n",
       "       [  3.45472135e-02],\n",
       "       [  1.50381718e-02],\n",
       "       [  1.39267119e-02],\n",
       "       [  4.78324667e-03],\n",
       "       [  3.67064476e-02],\n",
       "       [  1.36912679e-02],\n",
       "       [  1.25732765e-01],\n",
       "       [  7.94031844e-03],\n",
       "       [  1.27224037e-02],\n",
       "       [  1.03999989e-03],\n",
       "       [  2.15496659e-01],\n",
       "       [  3.14188629e-01],\n",
       "       [  1.91470925e-02],\n",
       "       [  3.14188629e-01],\n",
       "       [  2.18651141e-03],\n",
       "       [  3.04665267e-01],\n",
       "       [  2.95530725e-02],\n",
       "       [  1.68588664e-02],\n",
       "       [  7.09539130e-02],\n",
       "       [  3.14188629e-01],\n",
       "       [  2.12649211e-05],\n",
       "       [  7.44253048e-04],\n",
       "       [  3.14188629e-01],\n",
       "       [  6.82831276e-03],\n",
       "       [  1.61303822e-02],\n",
       "       [  6.89400244e-04],\n",
       "       [  2.37377077e-01],\n",
       "       [  8.71934986e-04],\n",
       "       [  3.85156390e-03],\n",
       "       [  4.58448613e-03],\n",
       "       [  2.10416285e-04],\n",
       "       [  2.61569899e-02],\n",
       "       [  4.93227381e-05],\n",
       "       [  5.43945795e-03],\n",
       "       [  4.72346768e-02],\n",
       "       [  2.97174884e-05],\n",
       "       [  2.02442899e-01],\n",
       "       [  1.29632235e-01],\n",
       "       [  2.88337737e-01],\n",
       "       [  1.51671399e-03],\n",
       "       [  2.63239071e-02],\n",
       "       [  1.15022284e-03],\n",
       "       [  3.14188629e-01],\n",
       "       [  3.14188629e-01],\n",
       "       [  3.78808379e-03],\n",
       "       [  1.17198102e-01],\n",
       "       [  3.14188629e-01],\n",
       "       [  2.12206244e-02],\n",
       "       [  3.14188629e-01],\n",
       "       [  1.63787082e-02],\n",
       "       [  4.57036793e-02],\n",
       "       [  3.14188629e-01],\n",
       "       [  1.08774072e-02],\n",
       "       [  2.37168763e-02],\n",
       "       [  7.66043551e-03],\n",
       "       [  3.03457081e-01],\n",
       "       [  5.51690534e-03],\n",
       "       [  2.65694107e-03],\n",
       "       [  5.32783044e-04],\n",
       "       [  1.47232935e-02],\n",
       "       [  4.98480722e-02],\n",
       "       [  3.14188629e-01],\n",
       "       [  1.52160466e-01],\n",
       "       [  4.19520104e-04],\n",
       "       [  5.48580326e-02],\n",
       "       [  3.08012515e-01],\n",
       "       [  3.14188629e-01],\n",
       "       [  3.97256166e-02],\n",
       "       [  1.37741473e-02]], dtype=float32)"
      ]
     },
     "execution_count": 59,
     "metadata": {},
     "output_type": "execute_result"
    }
   ],
   "source": [
    "y_pred"
   ]
  },
  {
   "cell_type": "code",
   "execution_count": 60,
   "metadata": {
    "collapsed": true
   },
   "outputs": [],
   "source": [
    "y_pred = np.concatenate((data.iloc[:,0:1].values,y_pred),axis=1)"
   ]
  },
  {
   "cell_type": "code",
   "execution_count": 61,
   "metadata": {},
   "outputs": [
    {
     "data": {
      "text/plain": [
       "array([[  1.57761560e+07,   3.77911739e-02],\n",
       "       [  1.57395480e+07,   2.97836363e-01],\n",
       "       [  1.56628540e+07,   1.02533437e-02],\n",
       "       ..., \n",
       "       [  1.56754500e+07,   3.14188629e-01],\n",
       "       [  1.57764940e+07,   3.97256166e-02],\n",
       "       [  1.55924120e+07,   1.37741473e-02]])"
      ]
     },
     "execution_count": 61,
     "metadata": {},
     "output_type": "execute_result"
    }
   ],
   "source": [
    "y_pred"
   ]
  },
  {
   "cell_type": "code",
   "execution_count": 62,
   "metadata": {
    "collapsed": true
   },
   "outputs": [],
   "source": [
    "y_pred = y_pred[y_pred[:,1].argsort()]"
   ]
  },
  {
   "cell_type": "code",
   "execution_count": 63,
   "metadata": {},
   "outputs": [
    {
     "data": {
      "text/plain": [
       "array([[  1.56214230e+07,   1.19132551e-06],\n",
       "       [  1.57752350e+07,   1.55979633e-05],\n",
       "       [  1.55723610e+07,   2.12649211e-05],\n",
       "       ..., \n",
       "       [  1.55818710e+07,   3.14188629e-01],\n",
       "       [  1.57293770e+07,   3.14188629e-01],\n",
       "       [  1.57261670e+07,   3.14188629e-01]])"
      ]
     },
     "execution_count": 63,
     "metadata": {},
     "output_type": "execute_result"
    }
   ],
   "source": [
    "y_pred"
   ]
  },
  {
   "cell_type": "code",
   "execution_count": null,
   "metadata": {
    "collapsed": true
   },
   "outputs": [],
   "source": []
  }
 ],
 "metadata": {
  "kernelspec": {
   "display_name": "Python 3",
   "language": "python",
   "name": "python3"
  },
  "language_info": {
   "codemirror_mode": {
    "name": "ipython",
    "version": 3
   },
   "file_extension": ".py",
   "mimetype": "text/x-python",
   "name": "python",
   "nbconvert_exporter": "python",
   "pygments_lexer": "ipython3",
   "version": "3.6.1"
  }
 },
 "nbformat": 4,
 "nbformat_minor": 2
}
